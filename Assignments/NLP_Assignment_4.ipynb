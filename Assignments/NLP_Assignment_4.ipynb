{
  "nbformat": 4,
  "nbformat_minor": 0,
  "metadata": {
    "colab": {
      "name": "asg4.ipynb",
      "provenance": []
    },
    "kernelspec": {
      "name": "python3",
      "display_name": "Python 3"
    }
  },
  "cells": [
    {
      "cell_type": "code",
      "metadata": {
        "id": "nOQqJ1CXm12-",
        "outputId": "68ab8f65-f76f-42a4-aa02-92b378882fd6",
        "colab": {
          "base_uri": "https://localhost:8080/",
          "height": 108
        }
      },
      "source": [
        "!pip install sklearn_crfsuite"
      ],
      "execution_count": 1,
      "outputs": [
        {
          "output_type": "stream",
          "text": [
            "Requirement already satisfied: sklearn_crfsuite in /usr/local/lib/python3.6/dist-packages (0.3.6)\n",
            "Requirement already satisfied: tqdm>=2.0 in /usr/local/lib/python3.6/dist-packages (from sklearn_crfsuite) (4.41.1)\n",
            "Requirement already satisfied: tabulate in /usr/local/lib/python3.6/dist-packages (from sklearn_crfsuite) (0.8.7)\n",
            "Requirement already satisfied: six in /usr/local/lib/python3.6/dist-packages (from sklearn_crfsuite) (1.15.0)\n",
            "Requirement already satisfied: python-crfsuite>=0.8.3 in /usr/local/lib/python3.6/dist-packages (from sklearn_crfsuite) (0.9.7)\n"
          ],
          "name": "stdout"
        }
      ]
    },
    {
      "cell_type": "code",
      "metadata": {
        "id": "swCkC5kSmsEi"
      },
      "source": [
        "import numpy as np\n",
        "import pandas as pd\n",
        "\n",
        "from itertools import chain\n",
        "\n",
        "import nltk\n",
        "import sklearn\n",
        "import scipy.stats\n",
        "from sklearn.metrics import make_scorer\n",
        "from sklearn.model_selection import RandomizedSearchCV\n",
        "\n",
        "import sklearn_crfsuite\n",
        "from sklearn_crfsuite import scorers\n",
        "from sklearn_crfsuite import metrics\n",
        "\n",
        "import re"
      ],
      "execution_count": 2,
      "outputs": []
    },
    {
      "cell_type": "code",
      "metadata": {
        "id": "n6NPeZGHmzj5"
      },
      "source": [
        "train_file = open(\"/content/hi-ud-train.conllu\", \"r\", encoding=\"utf-8\")\n",
        "test_file = open(\"/content/hi-ud-test .conllu\", \"r\", encoding=\"utf-8\")"
      ],
      "execution_count": 3,
      "outputs": []
    },
    {
      "cell_type": "code",
      "metadata": {
        "id": "0RrkKjsgne0z"
      },
      "source": [
        "train_rows = []\n",
        "for x in train_file:\n",
        "  train_rows.append(str(x))\n",
        "\n",
        "test_rows = []\n",
        "for x in test_file:\n",
        "  test_rows.append(str(x))\n",
        "\n",
        "#print(train_rows[0])\n",
        "#print(test_rows[0])"
      ],
      "execution_count": 4,
      "outputs": []
    },
    {
      "cell_type": "code",
      "metadata": {
        "id": "OGYxDhVnppOK"
      },
      "source": [
        "train_sents = []\n",
        "sent = []\n",
        "for x in train_rows[1:]:\n",
        "  if x.split(',')[0] is '':\n",
        "    train_sents.append(sent)\n",
        "    sent = []\n",
        "  elif x is train_rows[-1]:\n",
        "    train_sents.append(sent)\n",
        "  else:\n",
        "    word = x.split(',')[1]\n",
        "    tag = x.split(',')[2][:-1]\n",
        "    sent.append((word,tag))"
      ],
      "execution_count": 5,
      "outputs": []
    },
    {
      "cell_type": "code",
      "metadata": {
        "id": "z2xqZ4NXvZ5t"
      },
      "source": [
        "test_sents = []\n",
        "sent = []\n",
        "for x in test_rows[1:]:\n",
        "  if x.split('\\t')[0] is '':\n",
        "    test_sents.append(sent)\n",
        "    sent = []\n",
        "  elif x is test_rows[-1]:\n",
        "    test_sents.append(sent)\n",
        "  else:\n",
        "    #print(x)\n",
        "    word = x.split('\\t')[1]\n",
        "    tag = x.split('\\t')[2][:-1]\n",
        "    sent.append((word,tag))"
      ],
      "execution_count": 6,
      "outputs": []
    },
    {
      "cell_type": "code",
      "metadata": {
        "id": "NO-tPU9UoGaS",
        "outputId": "151c0428-296d-47e5-b386-d8098a4b8d3f",
        "colab": {
          "base_uri": "https://localhost:8080/",
          "height": 55
        }
      },
      "source": [
        "print(train_sents[0])"
      ],
      "execution_count": 7,
      "outputs": [
        {
          "output_type": "stream",
          "text": [
            "[('yaha', 'DET'), ('eSiyA', 'PROPN'), ('kI', 'ADP'), ('sabase', 'ADV'), ('badZI', 'ADJ'), ('masjixoM', 'NOUN'), ('meM', 'ADP'), ('se', 'ADP'), ('eka', 'NUM'), ('hE', 'AUX'), ('.', 'PUNCT')]\n"
          ],
          "name": "stdout"
        }
      ]
    },
    {
      "cell_type": "code",
      "metadata": {
        "id": "jpBpD5VQrAKR",
        "outputId": "79605fab-4514-424d-e824-e32bd5d96eb8",
        "colab": {
          "base_uri": "https://localhost:8080/",
          "height": 55
        }
      },
      "source": [
        "print(test_sents[0])"
      ],
      "execution_count": 8,
      "outputs": [
        {
          "output_type": "stream",
          "text": [
            "[('rAmAyaNa', 'PROPN'), ('kAla', 'PROPN'), ('meM', 'ADP'), ('BagavAna', 'NOUN'), ('rAma', 'PROPN'), ('ke', 'ADP'), ('puwra', 'NOUN'), ('kuSa', 'PROPN'), ('kI', 'ADP'), ('rAjaXAnI', 'NOUN'), ('kuSAvawI', 'PROPN'), ('ko', 'ADP'), ('483', 'PROPN'), ('IsA', 'PROPN'), ('pUrva', 'PROPN'), ('buxXa', 'PROPN'), ('ne', 'ADP'), ('apane', 'PRON'), ('aMwima', 'ADJ'), ('viSrAma', 'NOUN'), ('ke', 'ADP'), ('lie', 'ADP'), ('cunA', 'VERB'), ('.', 'PUNCT')]\n"
          ],
          "name": "stdout"
        }
      ]
    },
    {
      "cell_type": "code",
      "metadata": {
        "id": "gG_nvDxewUT3"
      },
      "source": [
        "def word2features(sent, i):\n",
        "    word = sent[i][0]\n",
        "    \n",
        "    features = {\n",
        "        'word.lower()': word.lower(),\n",
        "        'word.isupper()': word.isupper(),\n",
        "        'word.istitle()': word.istitle(),\n",
        "        'word.isdigit()': word.isdigit(),\n",
        "        'is_first_capital':int(word[:1].isupper()),\n",
        "        'is_first_word': int(i==0),\n",
        "        'is_last_word':int(i==len(sent)-1),\n",
        "        'is_alphanumeric': int(bool((re.match('^(?=.*[0-9]$)(?=.*[a-zA-Z])',word)))),\n",
        "        'prefix_1':word[:1],\n",
        "        'prefix_2':word[:2],\n",
        "        'prefix_3':word[:3],\n",
        "        'prefix_4':word[:4],\n",
        "        'suffix_1':word[-1:],\n",
        "        'suffix_2':word[-2:],\n",
        "        'suffix_3':word[-3:],\n",
        "        'suffix_4':word[-4:],\n",
        "        'has_hyphen': 1 if '-' in word else 0 \n",
        "    }\n",
        "    if i > 0:\n",
        "        word1 = sent[i-1][0]\n",
        "        features.update({\n",
        "            '-1:word.lower()': word1.lower(),\n",
        "            '-1:word.istitle()': word1.istitle(),\n",
        "            '-1:word.isupper()': word1.isupper(),\n",
        "        })\n",
        "    else:\n",
        "        features['BOS'] = True\n",
        "\n",
        "    if i < len(sent)-1:\n",
        "        word1 = sent[i+1][0]\n",
        "        features.update({\n",
        "            '+1:word.lower()': word1.lower(),\n",
        "            '+1:word.istitle()': word1.istitle(),\n",
        "            '+1:word.isupper()': word1.isupper(),\n",
        "        })\n",
        "    else:\n",
        "        features['EOS'] = True\n",
        "\n",
        "    return features\n",
        "\n",
        "\n",
        "def sent2features(sent):\n",
        "    return [word2features(sent, i) for i in range(len(sent))]\n",
        "\n",
        "def sent2tags(sent):\n",
        "    return [postag for token, postag in sent]"
      ],
      "execution_count": 9,
      "outputs": []
    },
    {
      "cell_type": "markdown",
      "metadata": {
        "id": "IBBalQ-mpS-C"
      },
      "source": [
        "Feature description:-\n",
        "\n",
        "\n",
        "*   'word.lower()' :- Lowercase version of the word\n",
        "*   'word.isupper()' :- Whether the word is in uppercase or not\n",
        "*   'word.istitle()' :- Whether the word is digit or not\n",
        "*   'is_first_capital' :- Whether first letter of the word is in uppercase or not\n",
        "*   'is_first_word' :- Whether the word is first word of the sentence or not\n",
        "*   'is_last_word' :- Whether the word is last word of the sentence or not\n",
        "*   'is_alphanumeric' :- Whether the word is alphanumeric or not\n",
        "*   'prefix_i' :- perfix of length i \n",
        "*   'suffix_i' :- suffix of length i\n",
        "*   'has_hyphen' :- Whether the word has a hyphen or not\n",
        "*   '-1:word.lower()' :- Lowercase version of the previous word\n",
        "*   '-1:word.istitle()' :- Whether the previous word is title or not\n",
        "*   '-1:word.isupper()' :- Whether the previous word is in uppercase or not\n",
        "*   '+1:word.lower()' :- Lowercase version of the next word\n",
        "*   '+1:word.istitle()' :- Whether the previous word is title or not\n",
        "*   '+1:word.isupper()' :- Whether the previous word is in uppercase or not\n",
        "\n",
        "\n",
        "\n",
        "\n",
        "\n",
        "\n",
        "\n",
        "\n",
        "\n",
        "\n",
        "\n",
        "\n",
        "\n",
        "\n"
      ]
    },
    {
      "cell_type": "code",
      "metadata": {
        "id": "Ufa2iFYLww30",
        "outputId": "5ca29a42-89e9-410d-d8d6-fe313cc9a24e",
        "colab": {
          "base_uri": "https://localhost:8080/",
          "height": 399
        }
      },
      "source": [
        "sent2features(train_sents[0])[0]"
      ],
      "execution_count": 10,
      "outputs": [
        {
          "output_type": "execute_result",
          "data": {
            "text/plain": [
              "{'+1:word.istitle()': False,\n",
              " '+1:word.isupper()': False,\n",
              " '+1:word.lower()': 'esiya',\n",
              " 'BOS': True,\n",
              " 'has_hyphen': 0,\n",
              " 'is_alphanumeric': 0,\n",
              " 'is_first_capital': 0,\n",
              " 'is_first_word': 1,\n",
              " 'is_last_word': 0,\n",
              " 'prefix_1': 'y',\n",
              " 'prefix_2': 'ya',\n",
              " 'prefix_3': 'yah',\n",
              " 'prefix_4': 'yaha',\n",
              " 'suffix_1': 'a',\n",
              " 'suffix_2': 'ha',\n",
              " 'suffix_3': 'aha',\n",
              " 'suffix_4': 'yaha',\n",
              " 'word.isdigit()': False,\n",
              " 'word.istitle()': False,\n",
              " 'word.isupper()': False,\n",
              " 'word.lower()': 'yaha'}"
            ]
          },
          "metadata": {
            "tags": []
          },
          "execution_count": 10
        }
      ]
    },
    {
      "cell_type": "code",
      "metadata": {
        "id": "AtR56DLQw0ST"
      },
      "source": [
        "X_train = [sent2features(s) for s in train_sents]\n",
        "y_train = [sent2tags(s) for s in train_sents]\n",
        "\n",
        "X_test = [sent2features(s) for s in test_sents]\n",
        "y_test = [sent2tags(s) for s in test_sents]"
      ],
      "execution_count": 11,
      "outputs": []
    },
    {
      "cell_type": "code",
      "metadata": {
        "id": "AXlYVO_nw6Ku",
        "outputId": "71732f8f-2fb0-4ae2-ac4a-813bea8c879f",
        "colab": {
          "base_uri": "https://localhost:8080/",
          "height": 201
        }
      },
      "source": [
        "crf = sklearn_crfsuite.CRF(\n",
        "    algorithm='lbfgs',\n",
        "    c1=0.1,\n",
        "    c2=0.1,\n",
        "    max_iterations=100,\n",
        "    all_possible_transitions=True\n",
        ")\n",
        "crf.fit(X_train, y_train)"
      ],
      "execution_count": 12,
      "outputs": [
        {
          "output_type": "stream",
          "text": [
            "/usr/local/lib/python3.6/dist-packages/sklearn/base.py:197: FutureWarning: From version 0.24, get_params will raise an AttributeError if a parameter cannot be retrieved as an instance attribute. Previously it would return None.\n",
            "  FutureWarning)\n"
          ],
          "name": "stderr"
        },
        {
          "output_type": "execute_result",
          "data": {
            "text/plain": [
              "CRF(algorithm='lbfgs', all_possible_states=None, all_possible_transitions=True,\n",
              "    averaging=None, c=None, c1=0.1, c2=0.1, calibration_candidates=None,\n",
              "    calibration_eta=None, calibration_max_trials=None, calibration_rate=None,\n",
              "    calibration_samples=None, delta=None, epsilon=None, error_sensitive=None,\n",
              "    gamma=None, keep_tempfiles=None, linesearch=None, max_iterations=100,\n",
              "    max_linesearch=None, min_freq=None, model_filename=None, num_memories=None,\n",
              "    pa_type=None, period=None, trainer_cls=None, variance=None, verbose=False)"
            ]
          },
          "metadata": {
            "tags": []
          },
          "execution_count": 12
        }
      ]
    },
    {
      "cell_type": "code",
      "metadata": {
        "id": "Wh2h_2ZQw86H"
      },
      "source": [
        "y_pred_train = crf.predict(X_train)\n",
        "y_pred_test = crf.predict(X_test)\n",
        "train_accuracy = sklearn_crfsuite.metrics.flat_accuracy_score(y_train, y_pred_train)\n",
        "test_accuracy = sklearn_crfsuite.metrics.flat_accuracy_score(y_test, y_pred_test)"
      ],
      "execution_count": 13,
      "outputs": []
    },
    {
      "cell_type": "code",
      "metadata": {
        "id": "a_18vL6IkRMu",
        "outputId": "ad5778ee-1fb1-469d-b432-108c83389181",
        "colab": {
          "base_uri": "https://localhost:8080/",
          "height": 53
        }
      },
      "source": [
        "print(train_accuracy)\n",
        "print(test_accuracy)"
      ],
      "execution_count": 14,
      "outputs": [
        {
          "output_type": "stream",
          "text": [
            "0.9969776609724047\n",
            "0.8531228551818806\n"
          ],
          "name": "stdout"
        }
      ]
    },
    {
      "cell_type": "code",
      "metadata": {
        "id": "qJzZOuTJxCAt",
        "outputId": "41590bb3-d50c-4dcc-89d5-7fdd6b5672f5",
        "colab": {
          "base_uri": "https://localhost:8080/",
          "height": 35
        }
      },
      "source": [
        "tags = []\n",
        "for y in y_train:\n",
        "  for x in y:\n",
        "    if x not in tags:\n",
        "      tags.append(x)\n",
        "\n",
        "for y in y_test:\n",
        "  for x in y:\n",
        "    if x not in tags:\n",
        "      tags.append(x)\n",
        "\n",
        "print(tags)"
      ],
      "execution_count": 15,
      "outputs": [
        {
          "output_type": "stream",
          "text": [
            "['DET', 'PROPN', 'ADP', 'ADV', 'ADJ', 'NOUN', 'NUM', 'AUX', 'PUNCT', 'PRON', 'VERB', 'CCONJ', 'PART', 'COMMA', 'SCONJ', 'X']\n"
          ],
          "name": "stdout"
        }
      ]
    },
    {
      "cell_type": "code",
      "metadata": {
        "id": "Kd45vXEJcj7g",
        "outputId": "b21fccf4-71dc-4487-e234-4729edc57bc0",
        "colab": {
          "base_uri": "https://localhost:8080/",
          "height": 491
        }
      },
      "source": [
        "crf = sklearn_crfsuite.CRF(\n",
        "    algorithm='lbfgs',\n",
        "    max_iterations=100,\n",
        "    all_possible_transitions=True\n",
        ")\n",
        "params_space = {\n",
        "    'c1': scipy.stats.expon(scale=0.5),\n",
        "    'c2': scipy.stats.expon(scale=0.05),\n",
        "}\n",
        "\n",
        "f1_scorer = make_scorer(metrics.flat_accuracy_score)\n",
        "\n",
        "rs = RandomizedSearchCV(crf, params_space,\n",
        "                        cv=3,\n",
        "                        verbose=1,\n",
        "                        n_jobs=-1,\n",
        "                        n_iter=50,\n",
        "                        scoring=f1_scorer)\n",
        "rs.fit(X_train, y_train)"
      ],
      "execution_count": 18,
      "outputs": [
        {
          "output_type": "stream",
          "text": [
            "Fitting 3 folds for each of 50 candidates, totalling 150 fits\n"
          ],
          "name": "stdout"
        },
        {
          "output_type": "stream",
          "text": [
            "/usr/local/lib/python3.6/dist-packages/sklearn/base.py:197: FutureWarning: From version 0.24, get_params will raise an AttributeError if a parameter cannot be retrieved as an instance attribute. Previously it would return None.\n",
            "  FutureWarning)\n",
            "[Parallel(n_jobs=-1)]: Using backend LokyBackend with 2 concurrent workers.\n",
            "[Parallel(n_jobs=-1)]: Done  46 tasks      | elapsed:  1.4min\n",
            "[Parallel(n_jobs=-1)]: Done 150 out of 150 | elapsed:  4.6min finished\n"
          ],
          "name": "stderr"
        },
        {
          "output_type": "execute_result",
          "data": {
            "text/plain": [
              "RandomizedSearchCV(cv=3, error_score=nan,\n",
              "                   estimator=CRF(algorithm='lbfgs', all_possible_states=None,\n",
              "                                 all_possible_transitions=True, averaging=None,\n",
              "                                 c=None, c1=None, c2=None,\n",
              "                                 calibration_candidates=None,\n",
              "                                 calibration_eta=None,\n",
              "                                 calibration_max_trials=None,\n",
              "                                 calibration_rate=None,\n",
              "                                 calibration_samples=None, delta=None,\n",
              "                                 epsilon=None, error_sensitive=None, gamma=None,\n",
              "                                 keep_...\n",
              "                                 trainer_cls=None, variance=None,\n",
              "                                 verbose=False),\n",
              "                   iid='deprecated', n_iter=50, n_jobs=-1,\n",
              "                   param_distributions={'c1': <scipy.stats._distn_infrastructure.rv_frozen object at 0x7f4f1edf2128>,\n",
              "                                        'c2': <scipy.stats._distn_infrastructure.rv_frozen object at 0x7f4f1edf2390>},\n",
              "                   pre_dispatch='2*n_jobs', random_state=None, refit=True,\n",
              "                   return_train_score=False,\n",
              "                   scoring=make_scorer(flat_accuracy_score), verbose=1)"
            ]
          },
          "metadata": {
            "tags": []
          },
          "execution_count": 18
        }
      ]
    },
    {
      "cell_type": "code",
      "metadata": {
        "id": "MGJrseJqcj-B",
        "outputId": "79822ada-3884-4981-e8df-60b02bb06bdb",
        "colab": {
          "base_uri": "https://localhost:8080/",
          "height": 72
        }
      },
      "source": [
        "print('best params:', rs.best_params_)\n",
        "print('best CV score:', rs.best_score_)\n",
        "print('model size: {:0.2f}M'.format(rs.best_estimator_.size_ / 1000000))"
      ],
      "execution_count": 19,
      "outputs": [
        {
          "output_type": "stream",
          "text": [
            "best params: {'c1': 0.011189679492593299, 'c2': 0.07756578581396453}\n",
            "best CV score: 0.8590887329284292\n",
            "model size: 0.81M\n"
          ],
          "name": "stdout"
        }
      ]
    },
    {
      "cell_type": "code",
      "metadata": {
        "id": "rARihLxDlsoq"
      },
      "source": [
        "crf = rs.best_estimator_"
      ],
      "execution_count": 20,
      "outputs": []
    },
    {
      "cell_type": "code",
      "metadata": {
        "id": "TsMw-V6xlkNg"
      },
      "source": [
        "y_pred_train = crf.predict(X_train)\n",
        "y_pred_test = crf.predict(X_test)\n",
        "train_accuracy = sklearn_crfsuite.metrics.flat_accuracy_score(y_train, y_pred_train)\n",
        "test_accuracy = sklearn_crfsuite.metrics.flat_accuracy_score(y_test, y_pred_test)"
      ],
      "execution_count": 21,
      "outputs": []
    },
    {
      "cell_type": "code",
      "metadata": {
        "id": "AKWlbo9ilniY",
        "outputId": "94c80d83-26a7-4f63-e984-18ce66e046b2",
        "colab": {
          "base_uri": "https://localhost:8080/",
          "height": 53
        }
      },
      "source": [
        "print(train_accuracy)\n",
        "print(test_accuracy)"
      ],
      "execution_count": 22,
      "outputs": [
        {
          "output_type": "stream",
          "text": [
            "0.9988173455978975\n",
            "0.849691146190803\n"
          ],
          "name": "stdout"
        }
      ]
    },
    {
      "cell_type": "code",
      "metadata": {
        "id": "nXGTqRz2lBGt"
      },
      "source": [
        "sorted_labels = sorted(\n",
        "    tags,\n",
        "    key=lambda name: (name[1:], name[0])\n",
        ")"
      ],
      "execution_count": 23,
      "outputs": []
    },
    {
      "cell_type": "code",
      "metadata": {
        "id": "OCBUvhU2k4ai",
        "outputId": "084d2f5d-ba4e-486f-bb38-c8f9ddd1ea02",
        "colab": {
          "base_uri": "https://localhost:8080/",
          "height": 490
        }
      },
      "source": [
        "print(\"For train dataset:-\\n\")\n",
        "print(metrics.flat_classification_report(\n",
        "    y_train, y_pred_train, labels=sorted_labels, digits=3\n",
        "))"
      ],
      "execution_count": 29,
      "outputs": [
        {
          "output_type": "stream",
          "text": [
            "For train dataset:-\n",
            "\n",
            "              precision    recall  f1-score   support\n",
            "\n",
            "           X      1.000     1.000     1.000         2\n",
            "        PART      1.000     1.000     1.000       163\n",
            "       CCONJ      1.000     1.000     1.000       150\n",
            "       SCONJ      1.000     1.000     1.000        61\n",
            "         ADJ      1.000     1.000     1.000       570\n",
            "         ADP      0.999     1.000     1.000      1387\n",
            "         ADV      1.000     0.991     0.995       111\n",
            "        VERB      1.000     0.991     0.995       640\n",
            "         DET      0.996     1.000     0.998       231\n",
            "       COMMA      1.000     1.000     1.000       114\n",
            "        NOUN      0.999     1.000     1.000      1597\n",
            "        PRON      1.000     0.998     0.999       431\n",
            "       PROPN      1.000     0.999     0.999       708\n",
            "         NUM      1.000     1.000     1.000       152\n",
            "       PUNCT      1.000     1.000     1.000       563\n",
            "         AUX      0.992     1.000     0.996       730\n",
            "\n",
            "    accuracy                          0.999      7610\n",
            "   macro avg      0.999     0.999     0.999      7610\n",
            "weighted avg      0.999     0.999     0.999      7610\n",
            "\n"
          ],
          "name": "stdout"
        },
        {
          "output_type": "execute_result",
          "data": {
            "application/vnd.google.colaboratory.intrinsic+json": {
              "type": "string"
            },
            "text/plain": [
              "' '"
            ]
          },
          "metadata": {
            "tags": []
          },
          "execution_count": 29
        }
      ]
    },
    {
      "cell_type": "code",
      "metadata": {
        "id": "ll13xJQExzJT",
        "outputId": "4e8a1cf0-45f8-42d6-b74c-a848223b5ae0",
        "colab": {
          "base_uri": "https://localhost:8080/",
          "height": 471
        }
      },
      "source": [
        "print(\"For test dataset:-\\n\")\n",
        "print(metrics.flat_classification_report(\n",
        "    y_test, y_pred_test, labels=sorted_labels, digits=3, zero_division=0\n",
        "))"
      ],
      "execution_count": 25,
      "outputs": [
        {
          "output_type": "stream",
          "text": [
            "For test dataset:-\n",
            "\n",
            "              precision    recall  f1-score   support\n",
            "\n",
            "           X      0.000     0.000     0.000         0\n",
            "        PART      1.000     1.000     1.000        33\n",
            "       CCONJ      1.000     1.000     1.000        25\n",
            "       SCONJ      0.600     1.000     0.750         3\n",
            "         ADJ      0.667     0.723     0.694        94\n",
            "         ADP      0.944     0.974     0.959       309\n",
            "         ADV      0.667     0.476     0.556        21\n",
            "        VERB      0.867     0.859     0.863        99\n",
            "         DET      0.805     0.917     0.857        36\n",
            "       COMMA      0.000     0.000     0.000         0\n",
            "        NOUN      0.787     0.875     0.829       329\n",
            "        PRON      0.844     0.831     0.837        65\n",
            "       PROPN      0.649     0.497     0.562       145\n",
            "         NUM      0.917     0.880     0.898        25\n",
            "       PUNCT      1.000     0.836     0.911       134\n",
            "         AUX      0.930     0.950     0.940       139\n",
            "\n",
            "   micro avg      0.850     0.850     0.850      1457\n",
            "   macro avg      0.730     0.739     0.728      1457\n",
            "weighted avg      0.849     0.850     0.846      1457\n",
            "\n"
          ],
          "name": "stdout"
        }
      ]
    },
    {
      "cell_type": "code",
      "metadata": {
        "id": "o6deUHeRzEAe",
        "outputId": "ce7c209d-8485-419c-af75-ece6ae5ac36b",
        "colab": {
          "base_uri": "https://localhost:8080/",
          "height": 435
        }
      },
      "source": [
        "from collections import Counter\n",
        "\n",
        "def print_transitions(trans_features):\n",
        "    for (label_from, label_to), weight in trans_features:\n",
        "        print(\"%-6s -> %-7s %0.6f\" % (label_from, label_to, weight))\n",
        "\n",
        "print(\"Top 10 most common transition features:\")\n",
        "print_transitions(Counter(crf.transition_features_).most_common(10))\n",
        "\n",
        "print(\"\\nTop 10 least common transition features:\")\n",
        "print_transitions(Counter(crf.transition_features_).most_common()[-10:])"
      ],
      "execution_count": 26,
      "outputs": [
        {
          "output_type": "stream",
          "text": [
            "Top 10 most common transition features:\n",
            "VERB   -> AUX     4.144519\n",
            "PROPN  -> PROPN   3.433338\n",
            "ADJ    -> NOUN    2.925595\n",
            "NUM    -> NOUN    2.389616\n",
            "NOUN   -> ADP     2.158102\n",
            "PROPN  -> ADP     2.110155\n",
            "DET    -> NOUN    2.078512\n",
            "AUX    -> AUX     2.053971\n",
            "PRON   -> ADP     1.864570\n",
            "VERB   -> SCONJ   1.671803\n",
            "\n",
            "Top 10 least common transition features:\n",
            "ADV    -> ADV     -1.321835\n",
            "PROPN  -> DET     -1.372187\n",
            "ADV    -> AUX     -1.385762\n",
            "DET    -> CCONJ   -1.508132\n",
            "ADP    -> COMMA   -1.515826\n",
            "PROPN  -> AUX     -1.531533\n",
            "ADJ    -> PRON    -1.818604\n",
            "CCONJ  -> AUX     -1.834209\n",
            "ADJ    -> ADP     -2.219360\n",
            "DET    -> ADP     -2.848158\n"
          ],
          "name": "stdout"
        }
      ]
    },
    {
      "cell_type": "code",
      "metadata": {
        "id": "XesS9w7vgwpZ"
      },
      "source": [
        ""
      ],
      "execution_count": null,
      "outputs": []
    }
  ]
}