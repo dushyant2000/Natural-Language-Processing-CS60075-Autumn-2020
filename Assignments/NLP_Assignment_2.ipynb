{
  "nbformat": 4,
  "nbformat_minor": 0,
  "metadata": {
    "colab": {
      "name": "NLP_Assignment_2.ipynb",
      "provenance": [],
      "collapsed_sections": [],
      "toc_visible": true
    },
    "kernelspec": {
      "display_name": "Python 3",
      "language": "python",
      "name": "python3"
    },
    "language_info": {
      "codemirror_mode": {
        "name": "ipython",
        "version": 3
      },
      "file_extension": ".py",
      "mimetype": "text/x-python",
      "name": "python",
      "nbconvert_exporter": "python",
      "pygments_lexer": "ipython3",
      "version": "3.6.10"
    }
  },
  "cells": [
    {
      "cell_type": "markdown",
      "metadata": {
        "colab_type": "text",
        "id": "zyJ25uz0kSaw"
      },
      "source": [
        "# Assignment 2 on Natural Language Processing\n",
        "\n",
        "### Date : 15th Sept, 2020\n",
        "\n",
        "### Instructor : Prof. Sudeshna Sarkar\n",
        "\n",
        "### Teaching Assistants : Alapan Kuila, Aniruddha Roy, Anusha Potnuru, Uppada Vishnu"
      ]
    },
    {
      "cell_type": "markdown",
      "metadata": {
        "colab_type": "text",
        "id": "Ao1nhg9RknmF"
      },
      "source": [
        "The central idea of this assignment is to make you familiar with programming in python and also the language modelling task of natural language processing using the python.\n",
        "\n"
      ]
    },
    {
      "cell_type": "markdown",
      "metadata": {
        "colab_type": "text",
        "id": "stk58juYkzEr"
      },
      "source": [
        "**Dataset:** \n",
        "\n",
        " Use the text file provided along."
      ]
    },
    {
      "cell_type": "code",
      "metadata": {
        "colab_type": "code",
        "id": "rT6byv49kdmo",
        "colab": {}
      },
      "source": [
        "# read dataset\n",
        "corpus_file = open(\"corpus.txt\", \"r\")\n",
        "corpus = corpus_file.read()\n",
        "#print(corpus)"
      ],
      "execution_count": 1,
      "outputs": []
    },
    {
      "cell_type": "markdown",
      "metadata": {
        "colab_type": "text",
        "id": "SRGqKaDn1pJy"
      },
      "source": [
        "Preprocess the data"
      ]
    },
    {
      "cell_type": "code",
      "metadata": {
        "colab_type": "code",
        "id": "C1OtHn6B1oc2",
        "colab": {
          "base_uri": "https://localhost:8080/",
          "height": 73
        },
        "outputId": "bcc22cbe-1706-430d-be97-a8dfe89692e3"
      },
      "source": [
        "import nltk\n",
        "nltk.download('punkt')\n",
        "from nltk.tokenize import word_tokenize,sent_tokenize\n",
        "\n",
        "sentences = sent_tokenize(corpus)\n",
        "print(len(sentences))"
      ],
      "execution_count": 2,
      "outputs": [
        {
          "output_type": "stream",
          "text": [
            "[nltk_data] Downloading package punkt to /root/nltk_data...\n",
            "[nltk_data]   Package punkt is already up-to-date!\n",
            "973\n"
          ],
          "name": "stdout"
        }
      ]
    },
    {
      "cell_type": "code",
      "metadata": {
        "id": "tukbwNldqGLF",
        "colab_type": "code",
        "colab": {
          "base_uri": "https://localhost:8080/",
          "height": 36
        },
        "outputId": "2fc72229-eb35-4316-fd56-c468a1b56fbd"
      },
      "source": [
        "import string\n",
        "import re\n",
        "punc = '''!()-[]{};:'\"\\, <>./?@#$%^&*_~'''\n",
        "pre_processed_corpus = []\n",
        "for sentence in sentences:\n",
        "  words = word_tokenize(sentence)\n",
        "  s = \"\"\n",
        "  for word in words:\n",
        "    if not word.isalpha():\n",
        "      continue\n",
        "    word = word.lower()\n",
        "    word = re.sub(r'[^\\w\\s]', '', word) \n",
        "    s = s + \" \" + word\n",
        "  pre_processed_corpus.append(s) \n",
        "\n",
        "print(len(pre_processed_corpus))\n",
        "#print(pre_processed_corpus)"
      ],
      "execution_count": 3,
      "outputs": [
        {
          "output_type": "stream",
          "text": [
            "973\n"
          ],
          "name": "stdout"
        }
      ]
    },
    {
      "cell_type": "markdown",
      "metadata": {
        "colab_type": "text",
        "id": "YDL7yfpXkMRS"
      },
      "source": [
        "### Task: In this sub-task, you are expected to carry out the following tasks:\n",
        "\n",
        "1. **Create the following language models** on the training corpus: <br>\n",
        "    i.   Unigram <br>\n",
        "    ii.  Bigram <br>\n",
        "    iii. Trigram <br>\n",
        "    iv.  Fourgram <br>\n",
        "\n",
        "2. **List the top 5 bigrams, trigrams, four-grams (with and without Add-1 smoothing).**\n",
        "(Note: Please remove those which contain only articles, prepositions, determiners. For Example: “of the”, “in a”, etc)."
      ]
    },
    {
      "cell_type": "code",
      "metadata": {
        "colab_type": "code",
        "id": "u3oIulBikPua",
        "colab": {
          "base_uri": "https://localhost:8080/",
          "height": 129
        },
        "outputId": "1351b68c-a3df-44a5-e962-e0ec5df0846a"
      },
      "source": [
        "#Write code\n",
        "\n",
        "from nltk.util import ngrams\n",
        "unigrams=[]\n",
        "bigrams=[]\n",
        "trigrams=[]\n",
        "fourgrams=[]\n",
        "\n",
        "for content in (pre_processed_corpus):\n",
        "  words = word_tokenize(content)\n",
        "  unigrams.extend(words)\n",
        "  bigrams.extend(ngrams(words,2))\n",
        "  trigrams.extend(ngrams(words, 3))\n",
        "  fourgrams.extend(ngrams(words, 4))\n",
        "\n",
        "#print(unigrams)\n",
        "#print(bigrams)\n",
        "#print(trigrams)\n",
        "#print(fourgrams)"
      ],
      "execution_count": 4,
      "outputs": [
        {
          "output_type": "stream",
          "text": [
            "/usr/local/lib/python3.6/dist-packages/ipykernel_launcher.py:14: DeprecationWarning: generator 'ngrams' raised StopIteration\n",
            "  \n",
            "/usr/local/lib/python3.6/dist-packages/ipykernel_launcher.py:13: DeprecationWarning: generator 'ngrams' raised StopIteration\n",
            "  del sys.path[0]\n",
            "/usr/local/lib/python3.6/dist-packages/ipykernel_launcher.py:12: DeprecationWarning: generator 'ngrams' raised StopIteration\n",
            "  if sys.path[0] == '':\n"
          ],
          "name": "stderr"
        }
      ]
    },
    {
      "cell_type": "code",
      "metadata": {
        "id": "zhIpwz7CrgRl",
        "colab_type": "code",
        "colab": {
          "base_uri": "https://localhost:8080/",
          "height": 93
        },
        "outputId": "3dc4f43d-d15a-4488-a787-8f09569d4546"
      },
      "source": [
        "#code for downloading stop words through nltk\n",
        "nltk.download('stopwords')\n",
        "from nltk.corpus import stopwords\n",
        "stop_words = stopwords.words('english')\n",
        "print(stop_words)"
      ],
      "execution_count": 5,
      "outputs": [
        {
          "output_type": "stream",
          "text": [
            "[nltk_data] Downloading package stopwords to /root/nltk_data...\n",
            "[nltk_data]   Package stopwords is already up-to-date!\n",
            "['i', 'me', 'my', 'myself', 'we', 'our', 'ours', 'ourselves', 'you', \"you're\", \"you've\", \"you'll\", \"you'd\", 'your', 'yours', 'yourself', 'yourselves', 'he', 'him', 'his', 'himself', 'she', \"she's\", 'her', 'hers', 'herself', 'it', \"it's\", 'its', 'itself', 'they', 'them', 'their', 'theirs', 'themselves', 'what', 'which', 'who', 'whom', 'this', 'that', \"that'll\", 'these', 'those', 'am', 'is', 'are', 'was', 'were', 'be', 'been', 'being', 'have', 'has', 'had', 'having', 'do', 'does', 'did', 'doing', 'a', 'an', 'the', 'and', 'but', 'if', 'or', 'because', 'as', 'until', 'while', 'of', 'at', 'by', 'for', 'with', 'about', 'against', 'between', 'into', 'through', 'during', 'before', 'after', 'above', 'below', 'to', 'from', 'up', 'down', 'in', 'out', 'on', 'off', 'over', 'under', 'again', 'further', 'then', 'once', 'here', 'there', 'when', 'where', 'why', 'how', 'all', 'any', 'both', 'each', 'few', 'more', 'most', 'other', 'some', 'such', 'no', 'nor', 'not', 'only', 'own', 'same', 'so', 'than', 'too', 'very', 's', 't', 'can', 'will', 'just', 'don', \"don't\", 'should', \"should've\", 'now', 'd', 'll', 'm', 'o', 're', 've', 'y', 'ain', 'aren', \"aren't\", 'couldn', \"couldn't\", 'didn', \"didn't\", 'doesn', \"doesn't\", 'hadn', \"hadn't\", 'hasn', \"hasn't\", 'haven', \"haven't\", 'isn', \"isn't\", 'ma', 'mightn', \"mightn't\", 'mustn', \"mustn't\", 'needn', \"needn't\", 'shan', \"shan't\", 'shouldn', \"shouldn't\", 'wasn', \"wasn't\", 'weren', \"weren't\", 'won', \"won't\", 'wouldn', \"wouldn't\"]\n"
          ],
          "name": "stdout"
        }
      ]
    },
    {
      "cell_type": "code",
      "metadata": {
        "colab_type": "code",
        "id": "vARsvSfynePr",
        "colab": {
          "base_uri": "https://localhost:8080/",
          "height": 243
        },
        "outputId": "5f75b458-e902-4684-d5f9-50ee9ae176dd"
      },
      "source": [
        "#print top 10 bigrams, trigrams, fourgrams after removing stopwords\n",
        "uni_processed = [p for p in unigrams if p not in stop_words]\n",
        "fdist = nltk.FreqDist(uni_processed)\n",
        "print(\"Top 10 unigrams:\\n\",fdist.most_common(10))\n",
        "\n",
        "bi_processed = [p for p in bigrams if p[0] not in stop_words or p[1] not in stop_words]\n",
        "fdist2 = nltk.FreqDist(bi_processed)\n",
        "print(\"\\nTop 10 bigrams:\\n\",fdist2.most_common(10))\n",
        "\n",
        "tri_processed = [p for p in trigrams if p[0] not in stop_words or p[1] not in stop_words or p[2] not in stop_words]\n",
        "fdist3 = nltk.FreqDist(tri_processed)\n",
        "print(\"\\nTop 10 trigrams:\\n\",fdist3.most_common(10))\n",
        "\n",
        "four_processed = [p for p in fourgrams if p[0] not in stop_words or p[1] not in stop_words or p[2] not in stop_words or p[3] not in stop_words]\n",
        "fdist4 = nltk.FreqDist(four_processed)\n",
        "print(\"\\nTop 10 fourgrams:\\n\",fdist4.most_common(10))\n",
        "\n"
      ],
      "execution_count": 6,
      "outputs": [
        {
          "output_type": "stream",
          "text": [
            "Top 10 unigrams:\n",
            " [('said', 457), ('alice', 396), ('little', 126), ('one', 99), ('like', 84), ('went', 83), ('would', 78), ('queen', 75), ('thought', 74), ('could', 74)]\n",
            "\n",
            "Top 10 bigrams:\n",
            " [(('said', 'the'), 208), (('said', 'alice'), 116), (('the', 'queen'), 72), (('the', 'king'), 62), (('a', 'little'), 59), (('mock', 'turtle'), 56), (('the', 'mock'), 53), (('the', 'gryphon'), 53), (('the', 'hatter'), 52), (('went', 'on'), 48)]\n",
            "\n",
            "Top 10 trigrams:\n",
            " [(('the', 'mock', 'turtle'), 53), (('the', 'march', 'hare'), 30), (('said', 'the', 'king'), 29), (('the', 'white', 'rabbit'), 21), (('said', 'the', 'hatter'), 20), (('said', 'to', 'herself'), 19), (('said', 'the', 'mock'), 19), (('said', 'the', 'caterpillar'), 18), (('she', 'went', 'on'), 17), (('she', 'said', 'to'), 17)]\n",
            "\n",
            "Top 10 fourgrams:\n",
            " [(('said', 'the', 'mock', 'turtle'), 19), (('she', 'said', 'to', 'herself'), 16), (('a', 'minute', 'or', 'two'), 11), (('said', 'the', 'march', 'hare'), 8), (('said', 'alice', 'in', 'a'), 7), (('as', 'well', 'as', 'she'), 6), (('well', 'as', 'she', 'could'), 6), (('in', 'a', 'great', 'hurry'), 6), (('i', 'don', 't', 'know'), 6), (('in', 'a', 'tone', 'of'), 6)]\n"
          ],
          "name": "stdout"
        }
      ]
    },
    {
      "cell_type": "markdown",
      "metadata": {
        "colab_type": "text",
        "id": "ioc1xNjmnim-"
      },
      "source": [
        "# Applying Smoothing\n",
        "\n",
        "\n",
        "Assume additional training data in which each possible N-gram occurs exactly once and adjust estimates.\n",
        "\n",
        "> ### $ Probability(ngram) = \\frac{Count(ngram)+1}{ N\\, +\\, V} $\n",
        "\n",
        "N: Total number of N-grams <br>\n",
        "V: Number of unique N-grams\n",
        "\n"
      ]
    },
    {
      "cell_type": "code",
      "metadata": {
        "colab_type": "code",
        "id": "grh4sO0Yns4V",
        "colab": {
          "base_uri": "https://localhost:8080/",
          "height": 243
        },
        "outputId": "4a89f1cb-b43c-4d2d-b862-3ac02af67d8d"
      },
      "source": [
        "#You are to perform Add-1 smoothing here:\n",
        "#write similar code for bigram, trigram and fourgrams\n",
        "#Print top 10 unigram, bigram, trigram, fourgram after smoothing\n",
        "\n",
        "smoothed_unigrams={}\n",
        "for w,c in fdist.items():\n",
        "  smoothed_unigrams[w] = ((c+1)/(len(unigrams)+len(fdist)))\n",
        "\n",
        "uni_smoothed = [(k,v) for k, v in sorted(smoothed_unigrams.items(),reverse=True, key=lambda item: item[1])][:10]\n",
        "print(\"Top 10 unigrams after smoothing:\\n\", uni_smoothed)\n",
        "\n",
        "smoothed_bigrams={}\n",
        "for w,c in fdist2.items():\n",
        "  smoothed_bigrams[w] = ((c+1)/(len(bigrams)+len(fdist2)))\n",
        "\n",
        "bi_smoothed = [(k,v) for k, v in sorted(smoothed_bigrams.items(),reverse=True, key=lambda item: item[1])][:10]\n",
        "print(\"\\nTop 10 bigrams after smoothing:\\n\", bi_smoothed)\n",
        "\n",
        "smoothed_trigrams={}\n",
        "for w,c in fdist3.items():\n",
        "  smoothed_trigrams[w] = ((c+1)/(len(trigrams)+len(fdist3)))\n",
        "\n",
        "tri_smoothed = [(k,v) for k, v in sorted(smoothed_trigrams.items(),reverse=True, key=lambda item: item[1])][:10]\n",
        "print(\"\\nTop 10 trigrams after smoothing:\\n\", tri_smoothed)\n",
        "\n",
        "smoothed_fourgrams={}\n",
        "for w,c in fdist4.items():\n",
        "  smoothed_fourgrams[w] = ((c+1)/(len(fourgrams)+len(fdist4)))\n",
        "\n",
        "four_smoothed = [(k,v) for k, v in sorted(smoothed_fourgrams.items(),reverse=True, key=lambda item: item[1])][:10]\n",
        "print(\"\\nTop 10 fourgrams after smoothing:\\n\", four_smoothed)\n"
      ],
      "execution_count": 7,
      "outputs": [
        {
          "output_type": "stream",
          "text": [
            "Top 10 unigrams after smoothing:\n",
            " [('said', 0.0160246317483643), ('alice', 0.013890346733844162), ('little', 0.0044435114236730695), ('one', 0.0034988278926559604), ('like', 0.0029740037087575663), ('went', 0.0029390154298310064), ('would', 0.0027640740351982085), ('queen', 0.0026591091984185296), ('thought', 0.00262412091949197), ('could', 0.00262412091949197)]\n",
            "\n",
            "Top 10 bigrams after smoothing:\n",
            " [(('said', 'the'), 0.005694822888283379), (('said', 'alice'), 0.003188010899182561), (('the', 'queen'), 0.001989100817438692), (('the', 'king'), 0.0017166212534059945), (('a', 'little'), 0.0016348773841961854), (('mock', 'turtle'), 0.001553133514986376), (('the', 'mock'), 0.0014713896457765668), (('the', 'gryphon'), 0.0014713896457765668), (('the', 'hatter'), 0.001444141689373297), (('went', 'on'), 0.001335149863760218)]\n",
            "\n",
            "Top 10 trigrams after smoothing:\n",
            " [(('the', 'mock', 'turtle'), 0.0012585652356313802), (('the', 'march', 'hare'), 0.0007225096723069035), (('said', 'the', 'king'), 0.0006992029086841001), (('the', 'white', 'rabbit'), 0.0005127487997016734), (('said', 'the', 'hatter'), 0.0004894420360788701), (('said', 'to', 'herself'), 0.0004661352724560668), (('said', 'the', 'mock'), 0.0004661352724560668), (('said', 'the', 'caterpillar'), 0.00044282850883326343), (('she', 'went', 'on'), 0.0004195217452104601), (('she', 'said', 'to'), 0.0004195217452104601)]\n",
            "\n",
            "Top 10 fourgrams after smoothing:\n",
            " [(('said', 'the', 'mock', 'turtle'), 0.0004473172150030194), (('she', 'said', 'to', 'herself'), 0.0003802196327525665), (('a', 'minute', 'or', 'two'), 0.00026839032900181166), (('said', 'the', 'march', 'hare'), 0.00020129274675135872), (('said', 'alice', 'in', 'a'), 0.00017892688600120774), (('as', 'well', 'as', 'she'), 0.00015656102525105677), (('well', 'as', 'she', 'could'), 0.00015656102525105677), (('in', 'a', 'great', 'hurry'), 0.00015656102525105677), (('i', 'don', 't', 'know'), 0.00015656102525105677), (('in', 'a', 'tone', 'of'), 0.00015656102525105677)]\n"
          ],
          "name": "stdout"
        }
      ]
    },
    {
      "cell_type": "markdown",
      "metadata": {
        "colab_type": "text",
        "id": "k0GL40mQmmt4"
      },
      "source": [
        "### Predict the next word using statistical language modelling\n",
        "\n",
        "Using the above bigram, trigram, and fourgram models that you just experimented with, **predict the next word(top 5 probable) given the previous n(=2, 3, 4)-grams** for the sentences below.\n",
        "\n",
        "For str1, str2, you are to predict the next  2 possible word sequences using your trained smoothed models. <br> \n",
        "For example, for the string 'He looked very' the answers can be as below: \n",
        ">     (1) 'He looked very' *anxiouxly* \n",
        ">     (2) 'He looked very' *uncomfortable* "
      ]
    },
    {
      "cell_type": "code",
      "metadata": {
        "colab_type": "code",
        "id": "MBWKo5_Fmnbg",
        "colab": {}
      },
      "source": [
        "str1 = 'after that alice said the'\n",
        "str2 = 'alice felt so desperate that she was'"
      ],
      "execution_count": 8,
      "outputs": []
    },
    {
      "cell_type": "code",
      "metadata": {
        "colab_type": "code",
        "id": "ext_nVn2mvZt",
        "colab": {
          "base_uri": "https://localhost:8080/",
          "height": 93
        },
        "outputId": "f9fb6d8d-8df2-47d9-ffd8-93344499eebf"
      },
      "source": [
        "#write code\n",
        "print(\"Using unigram model:-\")\n",
        "str1_pred_uni = sorted([(k,v)for k,v in smoothed_unigrams.items()], key=lambda x:x[1], reverse=True)[:5]\n",
        "print(\"for str1: \",str1_pred_uni)\n",
        "str2_pred_uni = sorted([(k,v)for k,v in smoothed_unigrams.items()], key=lambda x:x[1], reverse=True)[:5]\n",
        "print(\"for str2: \",str2_pred_uni)"
      ],
      "execution_count": 9,
      "outputs": [
        {
          "output_type": "stream",
          "text": [
            "Using unigram model:-\n",
            "for str1:  [('said', 0.0160246317483643), ('alice', 0.013890346733844162), ('little', 0.0044435114236730695), ('one', 0.0034988278926559604), ('like', 0.0029740037087575663)]\n",
            "for str2:  [('said', 0.0160246317483643), ('alice', 0.013890346733844162), ('little', 0.0044435114236730695), ('one', 0.0034988278926559604), ('like', 0.0029740037087575663)]\n"
          ],
          "name": "stdout"
        }
      ]
    },
    {
      "cell_type": "code",
      "metadata": {
        "id": "LZWWmKevFCOt",
        "colab_type": "code",
        "colab": {
          "base_uri": "https://localhost:8080/",
          "height": 93
        },
        "outputId": "5f453d59-bea0-49e9-fae0-41cb19b18e91"
      },
      "source": [
        "print(\"Using bigram model:-\")\n",
        "str1_pred_bi = sorted([(k[1],v)for k,v in smoothed_bigrams.items() if k[0]=='the'], key=lambda x:x[1], reverse=True)[:5]\n",
        "print(\"for str1: \",str1_pred_bi)\n",
        "str2_pred_bi = sorted([(k[1],v)for k,v in smoothed_bigrams.items() if k[0]=='was'], key=lambda x:x[1], reverse=True)[:5]\n",
        "print(\"for str2: \",str2_pred_bi)"
      ],
      "execution_count": 10,
      "outputs": [
        {
          "output_type": "stream",
          "text": [
            "Using bigram model:-\n",
            "for str1:  [('queen', 0.001989100817438692), ('king', 0.0017166212534059945), ('mock', 0.0014713896457765668), ('gryphon', 0.0014713896457765668), ('hatter', 0.001444141689373297)]\n",
            "for str2:  [('going', 0.00032697547683923706), ('quite', 0.0002452316076294278), ('looking', 0.00019073569482288828), ('sitting', 0.00019073569482288828), ('beginning', 0.00016348773841961853)]\n"
          ],
          "name": "stdout"
        }
      ]
    },
    {
      "cell_type": "code",
      "metadata": {
        "id": "eWSx0FtCA_C3",
        "colab_type": "code",
        "colab": {
          "base_uri": "https://localhost:8080/",
          "height": 93
        },
        "outputId": "df51213c-5c07-473a-95f3-700d91b38f87"
      },
      "source": [
        "print(\"Using trigram model:-\")\n",
        "str1_pred_tri = sorted([(k[2],v)for k,v in smoothed_trigrams.items() if k[0]=='said' and k[1]=='the'], key=lambda x:x[1], reverse=True)[:5]\n",
        "print(\"for str1: \",str1_pred_tri)\n",
        "str2_pred_tri = sorted([(k[2],v)for k,v in smoothed_trigrams.items() if k[0]=='she' and k[1]=='was'], key=lambda x:x[1], reverse=True)[:5]\n",
        "print(\"for str2: \",str2_pred_tri)"
      ],
      "execution_count": 11,
      "outputs": [
        {
          "output_type": "stream",
          "text": [
            "Using trigram model:-\n",
            "for str1:  [('king', 0.0006992029086841001), ('hatter', 0.0004894420360788701), ('mock', 0.0004661352724560668), ('caterpillar', 0.00044282850883326343), ('gryphon', 0.0004195217452104601)]\n",
            "for str2:  [('quite', 0.0001165338181140167), ('walking', 6.992029086841001e-05), ('looking', 6.992029086841001e-05), ('beginning', 6.992029086841001e-05), ('considering', 4.6613527245606674e-05)]\n"
          ],
          "name": "stdout"
        }
      ]
    },
    {
      "cell_type": "code",
      "metadata": {
        "id": "Qsq-ChObA__T",
        "colab_type": "code",
        "colab": {
          "base_uri": "https://localhost:8080/",
          "height": 93
        },
        "outputId": "dbf306ec-1275-4bfb-9c82-aec4577be893"
      },
      "source": [
        "print(\"Using fourgram model:-\")\n",
        "str1_pred_four = sorted([(k[3],v)for k,v in smoothed_fourgrams.items() if k[0]=='alice' and k[1]=='said' and k[2]=='the'], key=lambda x:x[1], reverse=True)[:5]\n",
        "print(\"for str1: \",str1_pred_four)\n",
        "str2_pred_four = sorted([(k[3],v)for k,v in smoothed_fourgrams.items() if k[0]=='that' and k[1]=='she' and k[2]=='was'], key=lambda x:x[1], reverse=True)[:5]\n",
        "print(\"for str2: \",str2_pred_four)"
      ],
      "execution_count": 12,
      "outputs": [
        {
          "output_type": "stream",
          "text": [
            "Using fourgram model:-\n",
            "for str1:  []\n",
            "for str2:  [('dozing', 4.4731721500301936e-05), ('walking', 4.4731721500301936e-05), ('ready', 4.4731721500301936e-05), ('losing', 4.4731721500301936e-05), ('quite', 4.4731721500301936e-05)]\n"
          ],
          "name": "stdout"
        }
      ]
    },
    {
      "cell_type": "code",
      "metadata": {
        "id": "jN33aqZSE0QI",
        "colab_type": "code",
        "colab": {}
      },
      "source": [
        ""
      ],
      "execution_count": null,
      "outputs": []
    }
  ]
}