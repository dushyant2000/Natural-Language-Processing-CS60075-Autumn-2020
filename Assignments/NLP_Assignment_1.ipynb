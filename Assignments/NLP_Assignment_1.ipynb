{
  "nbformat": 4,
  "nbformat_minor": 0,
  "metadata": {
    "colab": {
      "name": "NLP_Assignment_1.ipynb",
      "provenance": [],
      "collapsed_sections": []
    },
    "kernelspec": {
      "display_name": "Python 3",
      "language": "python",
      "name": "python3"
    },
    "language_info": {
      "codemirror_mode": {
        "name": "ipython",
        "version": 3
      },
      "file_extension": ".py",
      "mimetype": "text/x-python",
      "name": "python",
      "nbconvert_exporter": "python",
      "pygments_lexer": "ipython3",
      "version": "3.6.10"
    }
  },
  "cells": [
    {
      "cell_type": "markdown",
      "metadata": {
        "colab_type": "text",
        "id": "fk0evCZ7U9WO"
      },
      "source": [
        "# **Assignment 1 on Natural Language Processing**\n",
        "\n",
        "### Date : 4th Sept, 2020\n",
        "\n",
        "#### Instructor : Prof. Sudeshna Sarkar\n",
        "\n",
        "#### Teaching Assistants : Alapan Kuila, Aniruddha Roy, Anusha Potnuru, Uppada Vishnu"
      ]
    },
    {
      "cell_type": "markdown",
      "metadata": {
        "colab_type": "text",
        "id": "Il_b_LFKXi8t"
      },
      "source": [
        " # NLTK Library"
      ]
    },
    {
      "cell_type": "markdown",
      "metadata": {
        "colab_type": "text",
        "id": "ss5CZjC2Xt0i"
      },
      "source": [
        "The [NLTK](https://www.nltk.org/) Python framework is generally used as an education and research tool. Tokenization, Stemming, Lemmatization, Punctuation, Character count, word count are some of these packages which will be discussed in this tutorial.\n",
        "\n",
        "**Installing Nltk** <br>\n",
        "Nltk can be installed using PIP or Conda package managers.For detailed installation instructions follow this [link](https://www.nltk.org/install.html).\n",
        "\n",
        "To ensure we are all on the same page, the coding environment will be in **python3**. We suggest downloading Anaconda3 and creating a separate environment to do this assignment. \n",
        "The link to anaconda3 for Windows and Linux is available here https://docs.anaconda.com/anaconda/install/. \n",
        "The steps to install NLTK is available on the link: \n",
        "```bash\n",
        "sudo pip3 install nltk \n",
        "python3 \n",
        "nltk.download()\n",
        "```"
      ]
    },
    {
      "cell_type": "markdown",
      "metadata": {
        "colab_type": "text",
        "id": "r4txbU5-RlMv"
      },
      "source": [
        "**Note for Question and answers:**\n",
        "\n",
        "Write your answers to the point in the text box below labelled as **Answer here**."
      ]
    },
    {
      "cell_type": "markdown",
      "metadata": {
        "colab_type": "text",
        "id": "52_aJRSqaHgC"
      },
      "source": [
        "# Tokenizing words and Sentences using Nltk"
      ]
    },
    {
      "cell_type": "markdown",
      "metadata": {
        "colab_type": "text",
        "id": "o5_ElYaeaMbR"
      },
      "source": [
        "**Tokenization** is the process by which big quantity of text is divided into smaller parts called tokens. <br>It is crucial to understand the pattern in the text in order to perform various NLP tasks.These tokens are very useful for finding such patterns.<br>\n",
        "\n",
        "Natural Language toolkit has very important module tokenize which further comprises of sub-modules\n",
        "\n",
        "1. word tokenize\n",
        "2. sentence tokenize"
      ]
    },
    {
      "cell_type": "code",
      "metadata": {
        "colab_type": "code",
        "id": "sby_OS3qZ_fz",
        "colab": {
          "base_uri": "https://localhost:8080/",
          "height": 92
        },
        "outputId": "d8641148-38ba-4582-8963-7253c470bee0"
      },
      "source": [
        "# Importing modules\n",
        "import nltk\n",
        "nltk.download('punkt') # For tokenizers\n",
        "nltk.download('inaugural') # For dataset\n",
        "from nltk.tokenize import word_tokenize,sent_tokenize"
      ],
      "execution_count": 1,
      "outputs": [
        {
          "output_type": "stream",
          "text": [
            "[nltk_data] Downloading package punkt to /root/nltk_data...\n",
            "[nltk_data]   Package punkt is already up-to-date!\n",
            "[nltk_data] Downloading package inaugural to /root/nltk_data...\n",
            "[nltk_data]   Package inaugural is already up-to-date!\n"
          ],
          "name": "stdout"
        }
      ]
    },
    {
      "cell_type": "code",
      "metadata": {
        "colab_type": "code",
        "id": "ew9Aq5WHXSn-",
        "colab": {
          "base_uri": "https://localhost:8080/",
          "height": 299
        },
        "outputId": "c62bbc71-4a6e-42dc-f571-53e5775a6391"
      },
      "source": [
        "# Sample corpus.\n",
        "from nltk.corpus import inaugural\n",
        "corpus = inaugural.raw('1789-Washington.txt')\n",
        "print(corpus)"
      ],
      "execution_count": 2,
      "outputs": [
        {
          "output_type": "stream",
          "text": [
            "Fellow-Citizens of the Senate and of the House of Representatives:\n",
            "\n",
            "Among the vicissitudes incident to life no event could have filled me with greater anxieties than that of which the notification was transmitted by your order, and received on the 14th day of the present month. On the one hand, I was summoned by my Country, whose voice I can never hear but with veneration and love, from a retreat which I had chosen with the fondest predilection, and, in my flattering hopes, with an immutable decision, as the asylum of my declining years -- a retreat which was rendered every day more necessary as well as more dear to me by the addition of habit to inclination, and of frequent interruptions in my health to the gradual waste committed on it by time. On the other hand, the magnitude and difficulty of the trust to which the voice of my country called me, being sufficient to awaken in the wisest and most experienced of her citizens a distrustful scrutiny into his qualifications, could not but overwhelm with despondence one who (inheriting inferior endowments from nature and unpracticed in the duties of civil administration) ought to be peculiarly conscious of his own deficiencies. In this conflict of emotions all I dare aver is that it has been my faithful study to collect my duty from a just appreciation of every circumstance by which it might be affected. All I dare hope is that if, in executing this task, I have been too much swayed by a grateful remembrance of former instances, or by an affectionate sensibility to this transcendent proof of the confidence of my fellow citizens, and have thence too little consulted my incapacity as well as disinclination for the weighty and untried cares before me, my error will be palliated by the motives which mislead me, and its consequences be judged by my country with some share of the partiality in which they originated.\n",
            "\n",
            "Such being the impressions under which I have, in obedience to the public summons, repaired to the present station, it would be peculiarly improper to omit in this first official act my fervent supplications to that Almighty Being who rules over the universe, who presides in the councils of nations, and whose providential aids can supply every human defect, that His benediction may consecrate to the liberties and happiness of the people of the United States a Government instituted by themselves for these essential purposes, and may enable every instrument employed in its administration to execute with success the functions allotted to his charge. In tendering this homage to the Great Author of every public and private good, I assure myself that it expresses your sentiments not less than my own, nor those of my fellow citizens at large less than either. No people can be bound to acknowledge and adore the Invisible Hand which conducts the affairs of men more than those of the United States. Every step by which they have advanced to the character of an independent nation seems to have been distinguished by some token of providential agency; and in the important revolution just accomplished in the system of their united government the tranquil deliberations and voluntary consent of so many distinct communities from which the event has resulted can not be compared with the means by which most governments have been established without some return of pious gratitude, along with an humble anticipation of the future blessings which the past seem to presage. These reflections, arising out of the present crisis, have forced themselves too strongly on my mind to be suppressed. You will join with me, I trust, in thinking that there are none under the influence of which the proceedings of a new and free government can more auspiciously commence.\n",
            "\n",
            "By the article establishing the executive department it is made the duty of the President \"to recommend to your consideration such measures as he shall judge necessary and expedient.\" The circumstances under which I now meet you will acquit me from entering into that subject further than to refer to the great constitutional charter under which you are assembled, and which, in defining your powers, designates the objects to which your attention is to be given. It will be more consistent with those circumstances, and far more congenial with the feelings which actuate me, to substitute, in place of a recommendation of particular measures, the tribute that is due to the talents, the rectitude, and the patriotism which adorn the characters selected to devise and adopt them. In these honorable qualifications I behold the surest pledges that as on one side no local prejudices or attachments, no separate views nor party animosities, will misdirect the comprehensive and equal eye which ought to watch over this great assemblage of communities and interests, so, on another, that the foundation of our national policy will be laid in the pure and immutable principles of private morality, and the preeminence of free government be exemplified by all the attributes which can win the affections of its citizens and command the respect of the world. I dwell on this prospect with every satisfaction which an ardent love for my country can inspire, since there is no truth more thoroughly established than that there exists in the economy and course of nature an indissoluble union between virtue and happiness; between duty and advantage; between the genuine maxims of an honest and magnanimous policy and the solid rewards of public prosperity and felicity; since we ought to be no less persuaded that the propitious smiles of Heaven can never be expected on a nation that disregards the eternal rules of order and right which Heaven itself has ordained; and since the preservation of the sacred fire of liberty and the destiny of the republican model of government are justly considered, perhaps, as deeply, as finally, staked on the experiment entrusted to the hands of the American people.\n",
            "\n",
            "Besides the ordinary objects submitted to your care, it will remain with your judgment to decide how far an exercise of the occasional power delegated by the fifth article of the Constitution is rendered expedient at the present juncture by the nature of objections which have been urged against the system, or by the degree of inquietude which has given birth to them. Instead of undertaking particular recommendations on this subject, in which I could be guided by no lights derived from official opportunities, I shall again give way to my entire confidence in your discernment and pursuit of the public good; for I assure myself that whilst you carefully avoid every alteration which might endanger the benefits of an united and effective government, or which ought to await the future lessons of experience, a reverence for the characteristic rights of freemen and a regard for the public harmony will sufficiently influence your deliberations on the question how far the former can be impregnably fortified or the latter be safely and advantageously promoted.\n",
            "\n",
            "To the foregoing observations I have one to add, which will be most properly addressed to the House of Representatives. It concerns myself, and will therefore be as brief as possible. When I was first honored with a call into the service of my country, then on the eve of an arduous struggle for its liberties, the light in which I contemplated my duty required that I should renounce every pecuniary compensation. From this resolution I have in no instance departed; and being still under the impressions which produced it, I must decline as inapplicable to myself any share in the personal emoluments which may be indispensably included in a permanent provision for the executive department, and must accordingly pray that the pecuniary estimates for the station in which I am placed may during my continuance in it be limited to such actual expenditures as the public good may be thought to require.\n",
            "\n",
            "Having thus imparted to you my sentiments as they have been awakened by the occasion which brings us together, I shall take my present leave; but not without resorting once more to the benign Parent of the Human Race in humble supplication that, since He has been pleased to favor the American people with opportunities for deliberating in perfect tranquillity, and dispositions for deciding with unparalleled unanimity on a form of government for the security of their union and the advancement of their happiness, so His divine blessing may be equally conspicuous in the enlarged views, the temperate consultations, and the wise measures on which the success of this Government must depend. \n",
            "\n"
          ],
          "name": "stdout"
        }
      ]
    },
    {
      "cell_type": "markdown",
      "metadata": {
        "colab_type": "text",
        "id": "V2wbXKzVW0GO"
      },
      "source": [
        "### **TASK**:\n",
        "\n",
        "For the given corpus, \n",
        "1. Print the number of sentences and tokens. \n",
        "2. Print the average number of tokens per sentence.\n",
        "3. Print the number of unique tokens\n",
        "4. Print the number of tokens after stopword removal using the stopwords from nltk.\n"
      ]
    },
    {
      "cell_type": "markdown",
      "metadata": {
        "id": "3RfnNqxiZQmb",
        "colab_type": "text"
      },
      "source": [
        "Number of sentences"
      ]
    },
    {
      "cell_type": "code",
      "metadata": {
        "id": "dWqn0KlGdh6n",
        "colab_type": "code",
        "colab": {
          "base_uri": "https://localhost:8080/",
          "height": 36
        },
        "outputId": "65ce7f85-bd3a-4833-aa65-3a7de6f27e99"
      },
      "source": [
        "sentence_list = sent_tokenize(corpus)\n",
        "print(len(sentence_list))"
      ],
      "execution_count": 3,
      "outputs": [
        {
          "output_type": "stream",
          "text": [
            "23\n"
          ],
          "name": "stdout"
        }
      ]
    },
    {
      "cell_type": "markdown",
      "metadata": {
        "id": "YjcBsfyHZkGp",
        "colab_type": "text"
      },
      "source": [
        "Number of tokens"
      ]
    },
    {
      "cell_type": "code",
      "metadata": {
        "colab_type": "code",
        "id": "jrtu9HcHXFe6",
        "colab": {
          "base_uri": "https://localhost:8080/",
          "height": 36
        },
        "outputId": "ab3c8a1c-d879-4aa6-ada3-e415e81b57ad"
      },
      "source": [
        "# TODO\n",
        "word_list = word_tokenize(corpus)\n",
        "#print(len(word_list))\n",
        "words = [word for word in word_list if word.isalpha()]\n",
        "print(len(words))"
      ],
      "execution_count": 4,
      "outputs": [
        {
          "output_type": "stream",
          "text": [
            "1428\n"
          ],
          "name": "stdout"
        }
      ]
    },
    {
      "cell_type": "markdown",
      "metadata": {
        "id": "xnnPxErwZrTD",
        "colab_type": "text"
      },
      "source": [
        "Average number of tokens per sentence"
      ]
    },
    {
      "cell_type": "code",
      "metadata": {
        "id": "hR-BEWQqiHr2",
        "colab_type": "code",
        "colab": {
          "base_uri": "https://localhost:8080/",
          "height": 36
        },
        "outputId": "7aa6bc10-57a8-4178-fd21-d4844c266172"
      },
      "source": [
        "avg_tokens_per_sentence = len(words)/len(sentence_list)\n",
        "print(avg_tokens_per_sentence)"
      ],
      "execution_count": 5,
      "outputs": [
        {
          "output_type": "stream",
          "text": [
            "62.08695652173913\n"
          ],
          "name": "stdout"
        }
      ]
    },
    {
      "cell_type": "markdown",
      "metadata": {
        "id": "UViJVAvvZ7Lw",
        "colab_type": "text"
      },
      "source": [
        "Number of unique tokens"
      ]
    },
    {
      "cell_type": "code",
      "metadata": {
        "id": "kePdDYVMip-f",
        "colab_type": "code",
        "colab": {
          "base_uri": "https://localhost:8080/",
          "height": 36
        },
        "outputId": "f6ccef68-1e46-4e5d-cdb5-9a91528826f4"
      },
      "source": [
        "unique_tokens = list(set(words))\n",
        "print(len(unique_tokens))"
      ],
      "execution_count": 6,
      "outputs": [
        {
          "output_type": "stream",
          "text": [
            "615\n"
          ],
          "name": "stdout"
        }
      ]
    },
    {
      "cell_type": "markdown",
      "metadata": {
        "id": "3as2uGCLaJAa",
        "colab_type": "text"
      },
      "source": [
        " Number of tokens after stopword removal"
      ]
    },
    {
      "cell_type": "code",
      "metadata": {
        "id": "wZrCw6KblJXf",
        "colab_type": "code",
        "colab": {
          "base_uri": "https://localhost:8080/",
          "height": 73
        },
        "outputId": "3bd823ff-83fa-4b3e-cde3-fe3082697fbe"
      },
      "source": [
        "nltk.download('stopwords')"
      ],
      "execution_count": 7,
      "outputs": [
        {
          "output_type": "stream",
          "text": [
            "[nltk_data] Downloading package stopwords to /root/nltk_data...\n",
            "[nltk_data]   Package stopwords is already up-to-date!\n"
          ],
          "name": "stdout"
        },
        {
          "output_type": "execute_result",
          "data": {
            "text/plain": [
              "True"
            ]
          },
          "metadata": {
            "tags": []
          },
          "execution_count": 7
        }
      ]
    },
    {
      "cell_type": "code",
      "metadata": {
        "id": "oT6HNnkSkcmv",
        "colab_type": "code",
        "colab": {
          "base_uri": "https://localhost:8080/",
          "height": 56
        },
        "outputId": "6dc33b88-f26d-4e2d-a1b2-d05253cb03c4"
      },
      "source": [
        "from nltk.corpus import stopwords\n",
        "stop_words = stopwords.words('english')\n",
        "print(stop_words)"
      ],
      "execution_count": 8,
      "outputs": [
        {
          "output_type": "stream",
          "text": [
            "['i', 'me', 'my', 'myself', 'we', 'our', 'ours', 'ourselves', 'you', \"you're\", \"you've\", \"you'll\", \"you'd\", 'your', 'yours', 'yourself', 'yourselves', 'he', 'him', 'his', 'himself', 'she', \"she's\", 'her', 'hers', 'herself', 'it', \"it's\", 'its', 'itself', 'they', 'them', 'their', 'theirs', 'themselves', 'what', 'which', 'who', 'whom', 'this', 'that', \"that'll\", 'these', 'those', 'am', 'is', 'are', 'was', 'were', 'be', 'been', 'being', 'have', 'has', 'had', 'having', 'do', 'does', 'did', 'doing', 'a', 'an', 'the', 'and', 'but', 'if', 'or', 'because', 'as', 'until', 'while', 'of', 'at', 'by', 'for', 'with', 'about', 'against', 'between', 'into', 'through', 'during', 'before', 'after', 'above', 'below', 'to', 'from', 'up', 'down', 'in', 'out', 'on', 'off', 'over', 'under', 'again', 'further', 'then', 'once', 'here', 'there', 'when', 'where', 'why', 'how', 'all', 'any', 'both', 'each', 'few', 'more', 'most', 'other', 'some', 'such', 'no', 'nor', 'not', 'only', 'own', 'same', 'so', 'than', 'too', 'very', 's', 't', 'can', 'will', 'just', 'don', \"don't\", 'should', \"should've\", 'now', 'd', 'll', 'm', 'o', 're', 've', 'y', 'ain', 'aren', \"aren't\", 'couldn', \"couldn't\", 'didn', \"didn't\", 'doesn', \"doesn't\", 'hadn', \"hadn't\", 'hasn', \"hasn't\", 'haven', \"haven't\", 'isn', \"isn't\", 'ma', 'mightn', \"mightn't\", 'mustn', \"mustn't\", 'needn', \"needn't\", 'shan', \"shan't\", 'shouldn', \"shouldn't\", 'wasn', \"wasn't\", 'weren', \"weren't\", 'won', \"won't\", 'wouldn', \"wouldn't\"]\n"
          ],
          "name": "stdout"
        }
      ]
    },
    {
      "cell_type": "code",
      "metadata": {
        "id": "ZjowhERflSki",
        "colab_type": "code",
        "colab": {
          "base_uri": "https://localhost:8080/",
          "height": 36
        },
        "outputId": "605eb9b0-c7fa-470f-c49c-85e241d8fb07"
      },
      "source": [
        "final_tokens = [word for word in unique_tokens if not word in stop_words]\n",
        "print(len(final_tokens))"
      ],
      "execution_count": 9,
      "outputs": [
        {
          "output_type": "stream",
          "text": [
            "532\n"
          ],
          "name": "stdout"
        }
      ]
    },
    {
      "cell_type": "markdown",
      "metadata": {
        "colab_type": "text",
        "id": "UViYY9_3t2UE"
      },
      "source": [
        "# Stemming and Lemmatization with NLTK"
      ]
    },
    {
      "cell_type": "markdown",
      "metadata": {
        "colab_type": "text",
        "id": "g55XX9KDLgO7"
      },
      "source": [
        "**What is Stemming?** <br>\n",
        "Stemming is a kind of normalization for words. Normalization is a technique where a set of words in a sentence are converted into a sequence to shorten its lookup. The words which have the same meaning but have some variation according to the context or sentence are normalized.<br>\n",
        "Hence Stemming is a way to find the root word from any variations of respective word\n",
        "\n",
        "There are many stemmers provided by Nltk like **PorterStemmer**, **SnowballStemmer**, **LancasterStemmer**.<br>\n",
        "\n",
        "We will try and see differences between Porterstemmer and Snowballstemmer"
      ]
    },
    {
      "cell_type": "code",
      "metadata": {
        "colab_type": "code",
        "id": "SS4Ij__XLfTB",
        "colab": {
          "base_uri": "https://localhost:8080/",
          "height": 54
        },
        "outputId": "97855a84-178b-47ce-a697-c5269876587f"
      },
      "source": [
        "from nltk.stem import PorterStemmer\n",
        "from nltk.stem import SnowballStemmer # Note that SnowballStemmer has language as parameter.\n",
        "from nltk.stem import LancasterStemmer\n",
        "words = [\"grows\",\"leaves\",\"fairly\",\"cats\",\"trouble\",\"misunderstanding\",\"friendships\",\"easily\", \"rational\", \"relational\"]\n",
        "\n",
        "# TODO\n",
        "# create an instance of both the stemmers and perform stemming on above words\n",
        "ps = PorterStemmer()\n",
        "ss = SnowballStemmer(language='english')\n",
        "ps_list= []\n",
        "ss_list = []\n",
        "for word in words:\n",
        "  ps_list.append(ps.stem(word))\n",
        "  ss_list.append(ss.stem(word))\n",
        "\n",
        "print(\"Stemmed using PorterStemmer: \", ps_list)\n",
        "print(\"Stemmed using SnowballStemmer: \", ss_list)"
      ],
      "execution_count": 10,
      "outputs": [
        {
          "output_type": "stream",
          "text": [
            "Stemmed using PorterStemmer:  ['grow', 'leav', 'fairli', 'cat', 'troubl', 'misunderstand', 'friendship', 'easili', 'ration', 'relat']\n",
            "Stemmed using SnowballStemmer:  ['grow', 'leav', 'fair', 'cat', 'troubl', 'misunderstand', 'friendship', 'easili', 'ration', 'relat']\n"
          ],
          "name": "stdout"
        }
      ]
    },
    {
      "cell_type": "code",
      "metadata": {
        "id": "3k9z4SZrGwKr",
        "colab_type": "code",
        "colab": {
          "base_uri": "https://localhost:8080/",
          "height": 74
        },
        "outputId": "f51e6873-363f-4bc7-9451-fe415200210f"
      },
      "source": [
        "# TODO\n",
        "# Complete the function which takes a sentence/corpus and gets its stemmed version.\n",
        "def stemSentence(sentence=None):\n",
        "  tokens = word_tokenize(sentence)\n",
        "  ss = SnowballStemmer(language='english')\n",
        "  stemmed_list=[]\n",
        "  for word in tokens:\n",
        "    stemmed_list.append(ss.stem(word))\n",
        "  return stemmed_list\n",
        "\n",
        "stemmed_list = stemSentence(corpus)\n",
        "print(len(stemmed_list))\n",
        "print(stemmed_list[:50])"
      ],
      "execution_count": 11,
      "outputs": [
        {
          "output_type": "stream",
          "text": [
            "1537\n",
            "['fellow-citizen', 'of', 'the', 'senat', 'and', 'of', 'the', 'hous', 'of', 'repres', ':', 'among', 'the', 'vicissitud', 'incid', 'to', 'life', 'no', 'event', 'could', 'have', 'fill', 'me', 'with', 'greater', 'anxieti', 'than', 'that', 'of', 'which', 'the', 'notif', 'was', 'transmit', 'by', 'your', 'order', ',', 'and', 'receiv', 'on', 'the', '14th', 'day', 'of', 'the', 'present', 'month', '.', 'on']\n"
          ],
          "name": "stdout"
        }
      ]
    },
    {
      "cell_type": "markdown",
      "metadata": {
        "colab_type": "text",
        "id": "0JuE8CuDQSno"
      },
      "source": [
        "**What is Lemmatization?** <br>\n",
        "Lemmatization is the algorithmic process of finding the lemma of a word depending on their meaning. Lemmatization usually refers to the morphological analysis of words, which aims to remove inflectional endings. It helps in returning the base or dictionary form of a word, which is known as the lemma.<br>\n",
        "\n",
        "*The NLTK Lemmatization method is based on WorldNet's built-in morph function.*"
      ]
    },
    {
      "cell_type": "code",
      "metadata": {
        "id": "X569qMmA-oY5",
        "colab_type": "code",
        "colab": {
          "base_uri": "https://localhost:8080/",
          "height": 148
        },
        "outputId": "c5993e88-eca6-425c-e8ac-5a90d8ce0b36"
      },
      "source": [
        "#imports\n",
        "from nltk.stem import WordNetLemmatizer\n",
        "from nltk import pos_tag\n",
        "nltk.download('wordnet')\n",
        "nltk.download('averaged_perceptron_tagger') # Since Lemmatization method is based on WorldNet's built-in morph function."
      ],
      "execution_count": 12,
      "outputs": [
        {
          "output_type": "stream",
          "text": [
            "[nltk_data] Downloading package wordnet to /root/nltk_data...\n",
            "[nltk_data]   Package wordnet is already up-to-date!\n",
            "[nltk_data] Downloading package averaged_perceptron_tagger to\n",
            "[nltk_data]     /root/nltk_data...\n",
            "[nltk_data]   Package averaged_perceptron_tagger is already up-to-\n",
            "[nltk_data]       date!\n"
          ],
          "name": "stdout"
        },
        {
          "output_type": "execute_result",
          "data": {
            "text/plain": [
              "True"
            ]
          },
          "metadata": {
            "tags": []
          },
          "execution_count": 12
        }
      ]
    },
    {
      "cell_type": "code",
      "metadata": {
        "colab_type": "code",
        "id": "noyl1YNsQp98",
        "colab": {
          "base_uri": "https://localhost:8080/",
          "height": 74
        },
        "outputId": "4413de3f-4150-411d-c9c8-bbc7eb283084"
      },
      "source": [
        "words = [\"grows\",\"leaves\",\"fairly\",\"cats\",\"trouble\",\"running\",\"friendships\",\"easily\", \"was\", \"relational\",\"has\"]\n",
        "\n",
        "#TODO\n",
        "# Create an instance of the Lemmatizer and perform Lemmatization on above words\n",
        "# You can also give Parts-of-speech(pos) to the Lemmatizer for example \"v\" (verb). Check the differences in the outputs.\n",
        "tagged_words = pos_tag(words)\n",
        "print(tagged_words)\n",
        "lemmatizer = WordNetLemmatizer()\n",
        "lemmatized_list = []\n",
        "for word, tag in tagged_words:\n",
        "  temp_tag = tag[0].lower()\n",
        "  temp_tag = temp_tag if temp_tag in ['a', 'r', 'n', 'v'] else None\n",
        "  if not temp_tag:\n",
        "    lemma = word\n",
        "  else:\n",
        "    lemma = lemmatizer.lemmatize(word, temp_tag)\n",
        "  lemmatized_list.append(lemma)\n",
        "\n",
        "print(lemmatized_list)"
      ],
      "execution_count": 13,
      "outputs": [
        {
          "output_type": "stream",
          "text": [
            "[('grows', 'NNS'), ('leaves', 'VBZ'), ('fairly', 'RB'), ('cats', 'JJ'), ('trouble', 'NN'), ('running', 'VBG'), ('friendships', 'NNS'), ('easily', 'RB'), ('was', 'VBD'), ('relational', 'JJ'), ('has', 'VBZ')]\n",
            "['grows', 'leave', 'fairly', 'cats', 'trouble', 'run', 'friendship', 'easily', 'be', 'relational', 'have']\n"
          ],
          "name": "stdout"
        }
      ]
    },
    {
      "cell_type": "code",
      "metadata": {
        "id": "DRTsSKhA-jyQ",
        "colab_type": "code",
        "colab": {
          "base_uri": "https://localhost:8080/",
          "height": 74
        },
        "outputId": "deed5d37-e6e5-4943-f74a-78b5204748ec"
      },
      "source": [
        "#TODO\n",
        "# Complete the function which takes a sentence/corpus and gets its lemmatized version.\n",
        "def lemmatizeSentence(sentence=None):\n",
        "  tokens = word_tokenize(sentence)\n",
        "  tagged_tokens = pos_tag(tokens)\n",
        "  lemmatizer = WordNetLemmatizer()\n",
        "  lemmatized_list = []\n",
        "\n",
        "  for word,tag in tagged_tokens:\n",
        "    temp_tag = tag[0].lower()\n",
        "    temp_tag = temp_tag if temp_tag in ['a', 'r', 'n', 'v'] else None\n",
        "    if not temp_tag:\n",
        "      lemma = word\n",
        "    else:\n",
        "      lemma = lemmatizer.lemmatize(word, temp_tag)    \n",
        "    lemmatized_list.append(lemma)\n",
        "    \n",
        "  return lemmatized_list\n",
        "\n",
        "lemmatized_list = lemmatizeSentence(corpus)\n",
        "print(len(lemmatized_list))\n",
        "print(lemmatized_list[:50])"
      ],
      "execution_count": 14,
      "outputs": [
        {
          "output_type": "stream",
          "text": [
            "1537\n",
            "['Fellow-Citizens', 'of', 'the', 'Senate', 'and', 'of', 'the', 'House', 'of', 'Representatives', ':', 'Among', 'the', 'vicissitude', 'incident', 'to', 'life', 'no', 'event', 'could', 'have', 'fill', 'me', 'with', 'greater', 'anxiety', 'than', 'that', 'of', 'which', 'the', 'notification', 'be', 'transmit', 'by', 'your', 'order', ',', 'and', 'receive', 'on', 'the', '14th', 'day', 'of', 'the', 'present', 'month', '.', 'On']\n"
          ],
          "name": "stdout"
        }
      ]
    },
    {
      "cell_type": "markdown",
      "metadata": {
        "colab_type": "text",
        "id": "VJW6HsycSAlU"
      },
      "source": [
        "\n",
        "**Question:** Give example of two words which have same stem but different lemma? Show the stem and lemma of both words in the code below \n",
        "\n"
      ]
    },
    {
      "cell_type": "markdown",
      "metadata": {
        "colab_type": "text",
        "id": "zcq6bUEaSAt1"
      },
      "source": [
        "**Answer here:**\n",
        "Caring and Car"
      ]
    },
    {
      "cell_type": "code",
      "metadata": {
        "colab_type": "code",
        "id": "a8OtIEmFkGBM",
        "colab": {
          "base_uri": "https://localhost:8080/",
          "height": 92
        },
        "outputId": "2066e1e3-1b71-45d5-bedc-b95c13ab9325"
      },
      "source": [
        "#TODO\n",
        "# Write code to print the stem and lemma of both your words\n",
        "\n",
        "words = ['caring','car']\n",
        "\n",
        "lc = LancasterStemmer() \n",
        "for word in words:\n",
        "  print(\"Stemming for {} is {}\".format(word,lc.stem(word)))  \n",
        "\n",
        "tagged_words = pos_tag(words)\n",
        "lemmatizer = WordNetLemmatizer()\n",
        "\n",
        "for word, tag in tagged_words:\n",
        "  temp_tag = tag[0].lower()\n",
        "  temp_tag = temp_tag if temp_tag in ['a', 'r', 'n', 'v'] else None\n",
        "  if not temp_tag:\n",
        "    lemma = word\n",
        "  else:\n",
        "    lemma = lemmatizer.lemmatize(word, temp_tag)\n",
        "  print(\"Lemma for {} is {}\".format(word,lemma))"
      ],
      "execution_count": 15,
      "outputs": [
        {
          "output_type": "stream",
          "text": [
            "Stemming for caring is car\n",
            "Stemming for car is car\n",
            "Lemma for caring is caring\n",
            "Lemma for car is car\n"
          ],
          "name": "stdout"
        }
      ]
    },
    {
      "cell_type": "markdown",
      "metadata": {
        "colab_type": "text",
        "id": "e0tz3SIGSA2b"
      },
      "source": [
        "**Question:** Write a comparison between stemming and lemmatization?"
      ]
    },
    {
      "cell_type": "markdown",
      "metadata": {
        "colab_type": "text",
        "id": "aks8QaQ_SA_N"
      },
      "source": [
        "**Answer here:**\n",
        "\n",
        "* It is harder to create a lemmatizer in a new language than it is a stemming algorithm because we require a lot more knowledge about structure of a language in lemmatizers.\n",
        "\n",
        "* Stemming and Lemmatization both generate the foundation sort of the inflected words and therefore the main difference is that stem may not be an actual word whereas, lemma is an actual language word.\n",
        "\n",
        "* Stemming follows an algorithm with steps to perform on the words which makes it faster. Whereas, in lemmatization, we used a corpus also to supply lemma which makes it slower than stemming. we furthermore might had to define a parts-of-speech to get the proper lemma.\n",
        "\n",
        "* Another difference is that a stemmer operates on a single word without knowledge of the context, and therefore cannot discriminate between words which have different meanings depending on part of speech.\n",
        "\n",
        "\n",
        "\n",
        "\n",
        "\n"
      ]
    },
    {
      "cell_type": "code",
      "metadata": {
        "id": "-eV3KZS5Hglu",
        "colab_type": "code",
        "colab": {}
      },
      "source": [
        ""
      ],
      "execution_count": null,
      "outputs": []
    }
  ]
}